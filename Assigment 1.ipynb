{
 "cells": [
  {
   "cell_type": "code",
   "execution_count": 1,
   "metadata": {},
   "outputs": [
    {
     "name": "stdout",
     "output_type": "stream",
     "text": [
      " Twinkle,Twinkle,little star,\n",
      "                  How i wonder what you are !\n",
      "                          Up above the world so high\n",
      "                          Like a diamond in the sky\n",
      "           Twinkle,Twinkle,little star,\n",
      "                  How i wonder what you are !\n"
     ]
    }
   ],
   "source": [
    "# Question 1\n",
    "\n",
    "print(\"\"\" Twinkle,Twinkle,little star,\n",
    "                  How i wonder what you are !\n",
    "                          Up above the world so high\n",
    "                          Like a diamond in the sky\n",
    "           Twinkle,Twinkle,little star,\n",
    "                  How i wonder what you are !\"\"\")"
   ]
  },
  {
   "cell_type": "code",
   "execution_count": 3,
   "metadata": {},
   "outputs": [
    {
     "data": {
      "text/plain": [
       "'3.7.6'"
      ]
     },
     "execution_count": 3,
     "metadata": {},
     "output_type": "execute_result"
    }
   ],
   "source": [
    "# Question 2 :getting python version\n",
    "from platform import python_version\n",
    "python_version()"
   ]
  },
  {
   "cell_type": "code",
   "execution_count": 6,
   "metadata": {},
   "outputs": [
    {
     "name": "stdout",
     "output_type": "stream",
     "text": [
      "2021-12-31 23:43:17.183616\n"
     ]
    }
   ],
   "source": [
    "# Question 3 : getting current date and time\n",
    "import datetime \n",
    "currentTime = datetime.datetime.now()    \n",
    "print (currentTime)"
   ]
  },
  {
   "cell_type": "code",
   "execution_count": 10,
   "metadata": {},
   "outputs": [
    {
     "name": "stdout",
     "output_type": "stream",
     "text": [
      "Please Enter the radius of a circle: 76\n",
      " Area Of a Circle =  18136.64\n"
     ]
    }
   ],
   "source": [
    "# Question 4 : to calculate area of circle \n",
    "PI = 3.14\n",
    "radius = float(input(\"Please Enter the radius of a circle: \"))\n",
    "area = PI * radius * radius\n",
    "print(\" Area Of a Circle = \" ,area)"
   ]
  },
  {
   "cell_type": "code",
   "execution_count": 15,
   "metadata": {},
   "outputs": [
    {
     "name": "stdout",
     "output_type": "stream",
     "text": [
      "Input your First Name : Zeshan\n",
      "Input your Last Name : ali\n",
      "ali Zeshan\n"
     ]
    }
   ],
   "source": [
    "# Question  : to get user's first and last name and then print in reverse order \n",
    "first_name = input(\"Input your First Name : \")\n",
    "last_name = input(\"Input your Last Name : \")\n",
    "print (  last_name + \" \" + first_name)"
   ]
  },
  {
   "cell_type": "code",
   "execution_count": 16,
   "metadata": {},
   "outputs": [
    {
     "name": "stdout",
     "output_type": "stream",
     "text": [
      "Please enter 1st number:3\n",
      "Please enter 2nd number:2\n",
      "Addition of given numbers: 5\n"
     ]
    }
   ],
   "source": [
    "#Question 6 : to get two numbers from user in print their addition \n",
    "\n",
    "number1=int(input(\"Please enter 1st number:\"))\n",
    "number2=int(input(\"Please enter 2nd number:\"))\n",
    "answer_of_addition = number1 + number2\n",
    "print(\"Addition of given numbers:\", answer_of_addition )"
   ]
  },
  {
   "cell_type": "code",
   "execution_count": null,
   "metadata": {},
   "outputs": [],
   "source": []
  }
 ],
 "metadata": {
  "kernelspec": {
   "display_name": "Python 3",
   "language": "python",
   "name": "python3"
  },
  "language_info": {
   "codemirror_mode": {
    "name": "ipython",
    "version": 3
   },
   "file_extension": ".py",
   "mimetype": "text/x-python",
   "name": "python",
   "nbconvert_exporter": "python",
   "pygments_lexer": "ipython3",
   "version": "3.7.6"
  }
 },
 "nbformat": 4,
 "nbformat_minor": 4
}
